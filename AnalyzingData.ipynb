{
 "cells": [
  {
   "cell_type": "code",
   "execution_count": null,
   "id": "municipal-gauge",
   "metadata": {},
   "outputs": [],
   "source": [
    "%%javascript\n",
    "IPython.OutputArea.prototype._should_scroll = function(lines) {\n",
    "    return false;\n",
    "}"
   ]
  },
  {
   "cell_type": "code",
   "execution_count": null,
   "id": "cleared-foundation",
   "metadata": {},
   "outputs": [],
   "source": [
    "import emoji\n",
    "import pandas as pd \n",
    "import numpy as np\n",
    "import re\n",
    "import ipywidgets as widgets\n",
    "from datetime import datetime\n",
    "from textblob_de import TextBlobDE as TextBlob\n",
    "\n",
    "from tabulate import tabulate\n",
    "\n",
    "from IPython.core.interactiveshell import InteractiveShell\n",
    "InteractiveShell.ast_node_interactivity = \"all\"\n",
    "\n",
    "from IPython.core.display import display, HTML\n",
    "display(HTML(\"<style>.container { width:100% !important; }</style>\"))\n",
    "\n",
    "start_time = datetime.now()\n",
    "\n",
    "data = pd.read_csv(\"B:\\Dropbox\\MA\\KLZ-Data\\swatio-ticket-export-4033-2020-09-30.csv\", delimiter=';', error_bad_lines=False)\n",
    "#data.head()"
   ]
  },
  {
   "cell_type": "code",
   "execution_count": null,
   "id": "cubic-ability",
   "metadata": {},
   "outputs": [],
   "source": [
    "sub_selection = data[[\"Kategorie\", \"Von_(Name)\", \"Text\", \"Post-Link\", \"Erstelldatum\", \"Zuletzt_bearbeitet\", \"Gelöscht\", \"Versteckt\"]]\n",
    "#print(emoji.emojize(tabulate(sub_selection)))\n",
    "#sub_selection"
   ]
  },
  {
   "cell_type": "code",
   "execution_count": null,
   "id": "sexual-accreditation",
   "metadata": {
    "scrolled": false
   },
   "outputs": [],
   "source": [
    "answers_regex = \"Öffentlicher Post - Antwort #(\\d)+\"\n",
    "sub_answers_regex = \"Öffentlicher Post - Antwort #(\\d)+\\.(\\d)+\"\n",
    "\n",
    "top_accordion = None\n",
    "mid_vbox = None\n",
    "mid_accordions = []\n",
    "mid_accordion = None\n",
    "low_vbox = None\n",
    "low_entries = []\n",
    "\n",
    "editted = \"\"\n",
    "deleted_or_hidden = \"\"\n",
    "\n",
    "time_format = \"%Y-%m-%d %H:%M:%S\"\n",
    "\n",
    "sentiment = \"\"\n",
    "\n",
    "for i in range(int(len(sub_selection) / 10)):\n",
    "    date_posted = datetime.strptime(sub_selection[\"Erstelldatum\"][i], time_format)\n",
    "    date_last_editted = datetime.strptime(sub_selection[\"Zuletzt_bearbeitet\"][i], time_format)\n",
    "    if date_posted == date_last_editted:\n",
    "        # Not editted\n",
    "        editted = \"\"\n",
    "    else:\n",
    "        editted = \"*\"\n",
    "    \n",
    "    if sub_selection[\"Gelöscht\"][i] == \"Ja\" or sub_selection[\"Versteckt\"][i] == \"Ja\":\n",
    "        deleted_or_hidden = \"[deleted/hidden]\"\n",
    "    else:\n",
    "        deleted_or_hidden = \"\"\n",
    "    \n",
    "    sentiment = TextBlob(str(sub_selection[\"Text\"][i])).sentiment\n",
    "    \n",
    "    output = emoji.emojize(sub_selection[\"Von_(Name)\"][i] + deleted_or_hidden + editted + \" - \" + str(sub_selection[\"Text\"][i])) + \" - \" + str(sentiment)\n",
    "    \n",
    "    if sub_selection[\"Kategorie\"][i] == \"Öffentlicher Post\":\n",
    "        output = output +  \" - \" + str(sub_selection[\"Post-Link\"][i])\n",
    "        if top_accordion != None:\n",
    "            mid_vbox = widgets.VBox(mid_accordions)\n",
    "            mid_accordions = []\n",
    "            top_accordion.children = [mid_vbox]\n",
    "            top_accordion.selected_index = None\n",
    "            top_accordion\n",
    "        top_accordion = widgets.Accordion()\n",
    "        top_accordion.set_title(0, output)\n",
    "    elif re.fullmatch(answers_regex, sub_selection[\"Kategorie\"][i]) != None:\n",
    "        if mid_accordion != None:\n",
    "            low_vbox = widgets.VBox(low_entries)\n",
    "            low_entries = []\n",
    "            mid_accordion.children = [low_vbox]\n",
    "        mid_accordion = widgets.Accordion()\n",
    "        mid_accordion.set_title(0, output)\n",
    "        mid_accordion.selected_index = None\n",
    "        mid_accordions.append(mid_accordion)\n",
    "    elif re.fullmatch(sub_answers_regex, sub_selection[\"Kategorie\"][i]) != None:\n",
    "        curr_entry = widgets.Label(value=output)\n",
    "        low_entries.append(curr_entry)"
   ]
  },
  {
   "cell_type": "code",
   "execution_count": null,
   "id": "nuclear-romania",
   "metadata": {},
   "outputs": [],
   "source": [
    "print(\"Finished\")\n",
    "end_time = datetime.now()\n",
    "print(\"Duration: {}\".format(end_time - start_time))"
   ]
  },
  {
   "cell_type": "code",
   "execution_count": null,
   "id": "refined-billy",
   "metadata": {},
   "outputs": [],
   "source": []
  }
 ],
 "metadata": {
  "kernelspec": {
   "display_name": "Python 3",
   "language": "python",
   "name": "python3"
  },
  "language_info": {
   "codemirror_mode": {
    "name": "ipython",
    "version": 3
   },
   "file_extension": ".py",
   "mimetype": "text/x-python",
   "name": "python",
   "nbconvert_exporter": "python",
   "pygments_lexer": "ipython3",
   "version": "3.8.3"
  }
 },
 "nbformat": 4,
 "nbformat_minor": 5
}
